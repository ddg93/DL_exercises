{
 "cells": [
  {
   "cell_type": "code",
   "execution_count": 1,
   "metadata": {},
   "outputs": [],
   "source": [
    "import torch\n",
    "import torch.nn as nn\n",
    "import torch.nn.functional as F"
   ]
  },
  {
   "cell_type": "code",
   "execution_count": 3,
   "metadata": {},
   "outputs": [],
   "source": [
    "class RNNCell(nn.Module):\n",
    "    \"\"\"RNN Cell implementation\"\"\"\n",
    "    def __init__(self, input_size, hidden_size, output_size):\n",
    "        \"\"\"Initialize by passing the input_size, the hidden_size, the output_size\"\"\"\n",
    "        super().__init__()\n",
    "        #define linear units: output = input*weight+bias\n",
    "        self.input_to_hidden = nn.Linear(input_size, hidden_size, bias=True)\n",
    "        self.hidden_to_hidden = nn.Linear(hidden_size, hidden_size, bias=False)\n",
    "        self.hidden_to_output = nn.Linear(hidden_size, output_size, bias=True)\n",
    "\n",
    "    def forward(self, current_input, previous_hidden_state):\n",
    "        \"\"\"\n",
    "        next hidden state = activation_func(W_input_to_hidden * input \n",
    "        + W_hidden_to_hidden * previous_hidden + bias)\n",
    "        H_t = phi(W_xh*X+W_hh*H_(t-1)+b_xh\n",
    "        \n",
    "        output = W_hidden_to_output*next_hidden+bias\n",
    "        y = W_hy*H_t+bias_hy\n",
    "        \n",
    "        Input:\n",
    "        current_input [batch, input_size]\n",
    "        previous_hidden_state: [batch, hidden_size]\n",
    "        \n",
    "        Output:\n",
    "            next_hidden_state [batch, hidden_size]\n",
    "            output: [batch, output_size]\n",
    "        \"\"\"\n",
    "        #compute next hidden state\n",
    "        next_hidden_state = torch.tanh(self.input_to_hidden(current_input) \n",
    "                                       + self.hidden_to_hidden(previous_hidden_state))\n",
    "        #compute output\n",
    "        output = self.hidden_to_output(next_hidden_state)\n",
    "        return next_hidden_state, output"
   ]
  }
 ],
 "metadata": {
  "kernelspec": {
   "display_name": "Python 3",
   "language": "python",
   "name": "python3"
  },
  "language_info": {
   "codemirror_mode": {
    "name": "ipython",
    "version": 3
   },
   "file_extension": ".py",
   "mimetype": "text/x-python",
   "name": "python",
   "nbconvert_exporter": "python",
   "pygments_lexer": "ipython3",
   "version": "3.8.5"
  }
 },
 "nbformat": 4,
 "nbformat_minor": 4
}
